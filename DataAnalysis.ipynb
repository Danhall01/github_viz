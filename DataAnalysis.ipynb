{
 "cells": [
  {
   "cell_type": "code",
   "execution_count": 1,
   "metadata": {},
   "outputs": [],
   "source": [
    "import pandas as pd"
   ]
  },
  {
   "cell_type": "code",
   "execution_count": 11,
   "metadata": {},
   "outputs": [],
   "source": [
    "df = pd.read_csv('Repo_Messages_Huge_Set.csv')"
   ]
  },
  {
   "cell_type": "code",
   "execution_count": 12,
   "metadata": {},
   "outputs": [
    {
     "name": "stdout",
     "output_type": "stream",
     "text": [
      "(4125158, 4)\n",
      "Size of dataframe: 3221135736 Bytes\n",
      "                                             message  \\\n",
      "0  Merge pull request #26 from plumgrid/fawadk-de...   \n",
      "1  Merge pull request #48 from plumgrid/qasims-de...   \n",
      "2  Update README.md\\n\\nAdding quick start instruc...   \n",
      "3        Changed grid size for landscape orientation   \n",
      "4                     Added Polish translation files   \n",
      "\n",
      "                                              author  \\\n",
      "0  {'name': 'Fawad Khaliq', 'email': '4856592176e...   \n",
      "1  {'name': 'Fawad Khaliq', 'email': '4856592176e...   \n",
      "2  {'name': 'Muhammad Sagheer', 'email': '6e79461...   \n",
      "3  {'name': 'Elman', 'email': '59c728d38dfde4d631...   \n",
      "4  {'name': 'Elman', 'email': '59c728d38dfde4d631...   \n",
      "\n",
      "                         repo  \\\n",
      "0  plumgrid/libnetwork-plugin   \n",
      "1  plumgrid/libnetwork-plugin   \n",
      "2  plumgrid/libnetwork-plugin   \n",
      "3   elman22/pocket-amc-reader   \n",
      "4   elman22/pocket-amc-reader   \n",
      "\n",
      "                                            language  \n",
      "0  [{'name': 'Go', 'bytes': 46980}, {'name': 'Mak...  \n",
      "1  [{'name': 'Go', 'bytes': 46980}, {'name': 'Mak...  \n",
      "2  [{'name': 'Go', 'bytes': 46980}, {'name': 'Mak...  \n",
      "3                [{'name': 'Java', 'bytes': 368925}]  \n",
      "4                [{'name': 'Java', 'bytes': 368925}]  \n"
     ]
    }
   ],
   "source": [
    "print(df.shape)\n",
    "print('Size of dataframe: {} Bytes'.format(int(df.memory_usage(index=True, deep=True).sum())))\n",
    "print(df.head())"
   ]
  }
 ],
 "metadata": {
  "kernelspec": {
   "display_name": "base",
   "language": "python",
   "name": "python3"
  },
  "language_info": {
   "codemirror_mode": {
    "name": "ipython",
    "version": 3
   },
   "file_extension": ".py",
   "mimetype": "text/x-python",
   "name": "python",
   "nbconvert_exporter": "python",
   "pygments_lexer": "ipython3",
   "version": "3.11.5"
  }
 },
 "nbformat": 4,
 "nbformat_minor": 2
}
